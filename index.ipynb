{
 "metadata": {
  "language_info": {
   "codemirror_mode": {
    "name": "ipython",
    "version": 3
   },
   "file_extension": ".py",
   "mimetype": "text/x-python",
   "name": "python",
   "nbconvert_exporter": "python",
   "pygments_lexer": "ipython3",
   "version": "3.9.2"
  },
  "orig_nbformat": 2,
  "kernelspec": {
   "name": "python392jvsc74a57bd06cbb41571b20674ffee661aa3e8e8b885ec56c497d88337beffcf280b455b3f0",
   "display_name": "Python 3.9.2 64-bit"
  },
  "metadata": {
   "interpreter": {
    "hash": "6cbb41571b20674ffee661aa3e8e8b885ec56c497d88337beffcf280b455b3f0"
   }
  }
 },
 "nbformat": 4,
 "nbformat_minor": 2,
 "cells": [
  {
   "cell_type": "code",
   "execution_count": 1,
   "metadata": {},
   "outputs": [
    {
     "output_type": "stream",
     "name": "stdout",
     "text": [
      "Help on built-in function len in module builtins:\n\nlen(obj, /)\n    Return the number of items in a container.\n\nNone\n"
     ]
    }
   ],
   "source": [
    "print(help(len))"
   ]
  },
  {
   "cell_type": "code",
   "execution_count": 5,
   "metadata": {},
   "outputs": [
    {
     "output_type": "execute_result",
     "data": {
      "text/plain": [
       "3"
      ]
     },
     "metadata": {},
     "execution_count": 5
    }
   ],
   "source": [
    "def lest_difference(a,b,c):\n",
    "    diff1=abs(a-b)\n",
    "    diff2=abs(b-c)\n",
    "    diff3=abs(a-c)\n",
    "    return min(diff1,diff2,diff3)\n",
    "lest_difference(10,5,2)"
   ]
  },
  {
   "cell_type": "code",
   "execution_count": 7,
   "metadata": {},
   "outputs": [
    {
     "output_type": "stream",
     "name": "stdout",
     "text": [
      "hello colin, husn\n"
     ]
    }
   ],
   "source": [
    "def greet():\n",
    "    print('hello colin, husn')\n",
    "greet()\n"
   ]
  },
  {
   "cell_type": "code",
   "execution_count": 10,
   "metadata": {},
   "outputs": [
    {
     "output_type": "stream",
     "name": "stdout",
     "text": [
      "hello name saya abdul\n"
     ]
    }
   ],
   "source": [
    "def greet1(name='abdul'):\n",
    "    print('hello name saya'+ ' '+name)\n",
    "greet1()"
   ]
  },
  {
   "cell_type": "code",
   "execution_count": 21,
   "metadata": {},
   "outputs": [
    {
     "output_type": "execute_result",
     "data": {
      "text/plain": [
       "5"
      ]
     },
     "metadata": {},
     "execution_count": 21
    }
   ],
   "source": [
    "f = lambda a,b :a+b\n",
    "\n",
    "f(3,2)\n"
   ]
  },
  {
   "cell_type": "code",
   "execution_count": 23,
   "metadata": {},
   "outputs": [
    {
     "output_type": "execute_result",
     "data": {
      "text/plain": [
       "9"
      ]
     },
     "metadata": {},
     "execution_count": 23
    }
   ],
   "source": [
    "f = lambda x: x*x\n",
    "\n",
    "f(3)"
   ]
  },
  {
   "cell_type": "code",
   "execution_count": 24,
   "metadata": {},
   "outputs": [
    {
     "output_type": "stream",
     "name": "stdout",
     "text": [
      "HURUF_KECIL\n"
     ]
    }
   ],
   "source": [
    "\n",
    "huruf_kecil='huruf_kecil'\n",
    "\n",
    "# cetak jadi huruf besara\n",
    "print(huruf_kecil.upper())"
   ]
  },
  {
   "cell_type": "code",
   "execution_count": 26,
   "metadata": {},
   "outputs": [
    {
     "output_type": "stream",
     "name": "stdout",
     "text": [
      "2\nucup\n"
     ]
    }
   ],
   "source": [
    "keluarga_ucup=['mamah','papah','ucup','lisa','dewi']\n",
    "\n",
    "# sy ingin manggil ucup\n",
    "\n",
    "print(keluarga_ucup.index('ucup'))\n",
    "print(keluarga_ucup[2])"
   ]
  },
  {
   "cell_type": "code",
   "execution_count": 28,
   "metadata": {},
   "outputs": [
    {
     "output_type": "stream",
     "name": "stdout",
     "text": [
      "hasil perhitungan keliling :43.982297150257104\n"
     ]
    }
   ],
   "source": [
    "import math\n",
    "r=7\n",
    "phi=math.pi\n",
    "keliling=2*phi*r\n",
    "print('hasil perhitungan keliling :'+ str(keliling))"
   ]
  },
  {
   "cell_type": "code",
   "execution_count": 33,
   "metadata": {},
   "outputs": [
    {
     "output_type": "stream",
     "name": "stdout",
     "text": [
      "  iso_code continent     location        date  total_cases  new_cases  \\\n0      AFG      Asia  Afghanistan  2020-02-24          1.0        1.0   \n1      AFG      Asia  Afghanistan  2020-02-25          1.0        0.0   \n2      AFG      Asia  Afghanistan  2020-02-26          1.0        0.0   \n3      AFG      Asia  Afghanistan  2020-02-27          1.0        0.0   \n4      AFG      Asia  Afghanistan  2020-02-28          1.0        0.0   \n5      AFG      Asia  Afghanistan  2020-02-29          1.0        0.0   \n6      AFG      Asia  Afghanistan  2020-03-01          1.0        0.0   \n\n   new_cases_smoothed  total_deaths  new_deaths  new_deaths_smoothed  ...  \\\n0                 NaN           NaN         NaN                  NaN  ...   \n1                 NaN           NaN         NaN                  NaN  ...   \n2                 NaN           NaN         NaN                  NaN  ...   \n3                 NaN           NaN         NaN                  NaN  ...   \n4                 NaN           NaN         NaN                  NaN  ...   \n5               0.143           NaN         NaN                  0.0  ...   \n6               0.143           NaN         NaN                  0.0  ...   \n\n   gdp_per_capita  extreme_poverty  cardiovasc_death_rate  \\\n0        1803.987              NaN                597.029   \n1        1803.987              NaN                597.029   \n2        1803.987              NaN                597.029   \n3        1803.987              NaN                597.029   \n4        1803.987              NaN                597.029   \n5        1803.987              NaN                597.029   \n6        1803.987              NaN                597.029   \n\n   diabetes_prevalence  female_smokers  male_smokers  handwashing_facilities  \\\n0                 9.59             NaN           NaN                  37.746   \n1                 9.59             NaN           NaN                  37.746   \n2                 9.59             NaN           NaN                  37.746   \n3                 9.59             NaN           NaN                  37.746   \n4                 9.59             NaN           NaN                  37.746   \n5                 9.59             NaN           NaN                  37.746   \n6                 9.59             NaN           NaN                  37.746   \n\n   hospital_beds_per_thousand  life_expectancy  human_development_index  \n0                         0.5            64.83                    0.511  \n1                         0.5            64.83                    0.511  \n2                         0.5            64.83                    0.511  \n3                         0.5            64.83                    0.511  \n4                         0.5            64.83                    0.511  \n5                         0.5            64.83                    0.511  \n6                         0.5            64.83                    0.511  \n\n[7 rows x 59 columns]\n"
     ]
    }
   ],
   "source": [
    "import pandas as pd \n",
    "def1 =pd.read_csv('./datacovid.csv')\n",
    "\n",
    "print(def1.head(7))"
   ]
  },
  {
   "cell_type": "code",
   "execution_count": null,
   "metadata": {},
   "outputs": [],
   "source": []
  }
 ]
}