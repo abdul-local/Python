{
 "metadata": {
  "language_info": {
   "codemirror_mode": {
    "name": "ipython",
    "version": 3
   },
   "file_extension": ".py",
   "mimetype": "text/x-python",
   "name": "python",
   "nbconvert_exporter": "python",
   "pygments_lexer": "ipython3",
   "version": "3.9.2"
  },
  "orig_nbformat": 2,
  "kernelspec": {
   "name": "python392jvsc74a57bd06cbb41571b20674ffee661aa3e8e8b885ec56c497d88337beffcf280b455b3f0",
   "display_name": "Python 3.9.2 64-bit"
  },
  "metadata": {
   "interpreter": {
    "hash": "6cbb41571b20674ffee661aa3e8e8b885ec56c497d88337beffcf280b455b3f0"
   }
  }
 },
 "nbformat": 4,
 "nbformat_minor": 2,
 "cells": [
  {
   "cell_type": "code",
   "execution_count": 3,
   "metadata": {},
   "outputs": [
    {
     "output_type": "stream",
     "name": "stdout",
     "text": [
      "Hello nama saya ayu dan umur saya 21\nHello nama saya ayu dan umur saya 21\n"
     ]
    }
   ],
   "source": [
    "name='ayu'\n",
    "age=21\n",
    "# string formating\n",
    "print('Hello nama saya {0} dan umur saya {1}'.format(name,age))\n",
    "\n",
    "#menggunakan string interpolation\n",
    "print(f'Hello nama saya {name} dan umur saya {age}')\n",
    "\n"
   ]
  },
  {
   "cell_type": "code",
   "execution_count": 7,
   "metadata": {},
   "outputs": [
    {
     "output_type": "stream",
     "name": "stdout",
     "text": [
      "16\n"
     ]
    }
   ],
   "source": [
    "# fungsi lamda bisa di katakan aninomus function\n",
    "# f= lambda x :x**2\n",
    "# print(f(3))\n",
    "# fungsi lamda memiliki arugemnt lebih dari satu\n",
    "f = lambda x,y: x**y\n",
    "\n",
    "print(f(2,4))"
   ]
  },
  {
   "cell_type": "code",
   "execution_count": 8,
   "metadata": {},
   "outputs": [
    {
     "output_type": "stream",
     "name": "stdout",
     "text": [
      "ABDUL\n"
     ]
    }
   ],
   "source": [
    "# method \n",
    "nama_=\"abdul\"\n",
    "print(nama_.upper()) # ABDUL"
   ]
  },
  {
   "cell_type": "code",
   "execution_count": 9,
   "metadata": {},
   "outputs": [
    {
     "output_type": "stream",
     "name": "stdout",
     "text": [
      "2\n"
     ]
    }
   ],
   "source": [
    "#keluarga \n",
    "family=[\"abdul\",\"rodi\",\"malik\",\"dian\",\"huswatun\"]\n",
    "#cari index yang bernama malik\n",
    "print(family.index('malik')) # 2"
   ]
  },
  {
   "cell_type": "code",
   "execution_count": 10,
   "metadata": {},
   "outputs": [
    {
     "output_type": "stream",
     "name": "stdout",
     "text": [
      "3.141592653589793\n"
     ]
    }
   ],
   "source": [
    "import math\n",
    "pi=math.pi\n",
    "print(pi)"
   ]
  },
  {
   "cell_type": "code",
   "execution_count": 12,
   "metadata": {},
   "outputs": [
    {
     "output_type": "stream",
     "name": "stdout",
     "text": [
      " nilai yang di inputkan sama dengan nol\nnilai yang di inputkan lebih besar dari nol\nnilai yang di inpukan kurang dari nol\n"
     ]
    }
   ],
   "source": [
    "def inspect(x):\n",
    "    if(x==0):\n",
    "        return ' nilai yang di inputkan sama dengan nol'\n",
    "    elif (x>0):\n",
    "        return 'nilai yang di inputkan lebih besar dari nol'\n",
    "    else :\n",
    "       return 'nilai yang di inpukan kurang dari nol'\n",
    "print(inspect(0))\n",
    "print(inspect(1))\n",
    "print(inspect(-1))\n"
   ]
  },
  {
   "cell_type": "code",
   "execution_count": 16,
   "metadata": {},
   "outputs": [
    {
     "output_type": "stream",
     "name": "stdout",
     "text": [
      "abdul malik rodi dian huswatun "
     ]
    }
   ],
   "source": [
    "# materi tentang looping\n",
    "keluarga=['abdul','malik','rodi','dian','huswatun']\n",
    "keluarga2=[]\n",
    "for item in keluarga:\n",
    "    # keluarga2.append(item)\n",
    "    print(item,end=\" \")\n",
    "\n"
   ]
  },
  {
   "cell_type": "code",
   "execution_count": 18,
   "metadata": {},
   "outputs": [
    {
     "output_type": "stream",
     "name": "stdout",
     "text": [
      "0 1 2 3 4 "
     ]
    }
   ],
   "source": [
    "for i in range(5):\n",
    "    print(i,end=\" \")\n"
   ]
  },
  {
   "cell_type": "code",
   "execution_count": 19,
   "metadata": {},
   "outputs": [
    {
     "output_type": "stream",
     "name": "stdout",
     "text": [
      "data dengan index 0 dengan value dian\ndata dengan index 1 dengan value rodi\ndata dengan index 2 dengan value abdul\ndata dengan index 3 dengan value huswatun\ndata dengan index 4 dengan value malik\n"
     ]
    }
   ],
   "source": [
    "# enumerate\n",
    "datakeluarga=['dian','rodi','abdul','huswatun','malik']\n",
    "#lakukan perulangan dan munculkan indexnya juga\n",
    "for index,item in enumerate(datakeluarga):\n",
    "    print(f'data dengan index {index} dengan value {item}')"
   ]
  },
  {
   "cell_type": "code",
   "execution_count": 27,
   "metadata": {},
   "outputs": [
    {
     "output_type": "stream",
     "name": "stdout",
     "text": [
      "12 11 10 9 8 7 6 5 4 3 2 1 0\n1\n2\n3\n4\n5\n6\n7\n8\n9\n10\n11\n"
     ]
    }
   ],
   "source": [
    "# penggunaan while\n",
    "def pengurangan_bil(x):\n",
    "    while x>0:\n",
    "        print(x,end=\" \")\n",
    "        x-=1\n",
    "\n",
    "def penjumlahan_bil(y):\n",
    "    while y<12:\n",
    "        print(y) \n",
    "        y+=1\n",
    "    \n",
    "\n",
    "pengurangan_bil(12)\n",
    "penjumlahan_bil(0)\n",
    "  \n",
    "\n",
    "    \n",
    "   "
   ]
  },
  {
   "cell_type": "code",
   "execution_count": 2,
   "metadata": {
    "tags": []
   },
   "outputs": [
    {
     "output_type": "stream",
     "name": "stdout",
     "text": [
      "panjang yang di inputkan 6\n"
     ]
    }
   ],
   "source": [
    "#latihan penggunaan break\n",
    "while True:\n",
    "    a=input('string input: ')\n",
    "    if a=='quit':\n",
    "        break\n",
    "    print(f'panjang yang di inputkan {len(a)}')\n",
    "    \n",
    "   "
   ]
  },
  {
   "cell_type": "code",
   "execution_count": 12,
   "metadata": {},
   "outputs": [
    {
     "output_type": "stream",
     "name": "stdout",
     "text": [
      "manga\nsemangka\ndurian\n"
     ]
    }
   ],
   "source": [
    "#latihan penggunaan continue\n",
    "databuah=['manga','apple','semangka','durian']\n",
    "for buah in databuah:\n",
    "    if buah =='apple':\n",
    "        continue\n",
    "    print(buah)\n",
    "        \n",
    "\n"
   ]
  },
  {
   "cell_type": "code",
   "execution_count": 14,
   "metadata": {},
   "outputs": [
    {
     "output_type": "stream",
     "name": "stdout",
     "text": [
      "division by zero\nwajib diisi di akhir\n"
     ]
    }
   ],
   "source": [
    "# Exceptio Handling\n",
    "a=int(input())\n",
    "b=int(input())\n",
    "\n",
    "try:\n",
    "    c=a/b\n",
    "except Exception as e:\n",
    "    print (e)\n",
    "finally:\n",
    "    print('wajib diisi di akhir')\n",
    "\n",
    "\n",
    "\n",
    "\n",
    "\n",
    "\n",
    "\n",
    "\n",
    "\n",
    "\n"
   ]
  },
  {
   "cell_type": "code",
   "execution_count": null,
   "metadata": {},
   "outputs": [],
   "source": []
  }
 ]
}