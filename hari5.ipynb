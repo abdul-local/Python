{
 "metadata": {
  "language_info": {
   "codemirror_mode": {
    "name": "ipython",
    "version": 3
   },
   "file_extension": ".py",
   "mimetype": "text/x-python",
   "name": "python",
   "nbconvert_exporter": "python",
   "pygments_lexer": "ipython3",
   "version": "3.9.2"
  },
  "orig_nbformat": 2,
  "kernelspec": {
   "name": "python392jvsc74a57bd06cbb41571b20674ffee661aa3e8e8b885ec56c497d88337beffcf280b455b3f0",
   "display_name": "Python 3.9.2 64-bit"
  },
  "metadata": {
   "interpreter": {
    "hash": "6cbb41571b20674ffee661aa3e8e8b885ec56c497d88337beffcf280b455b3f0"
   }
  }
 },
 "nbformat": 4,
 "nbformat_minor": 2,
 "cells": [
  {
   "cell_type": "code",
   "execution_count": 2,
   "metadata": {},
   "outputs": [
    {
     "output_type": "stream",
     "name": "stdout",
     "text": [
      "[ 8.   1.   2.5  4.  28. ]\n[ 8.   1.   2.5  nan  4.  28. ]\n"
     ]
    }
   ],
   "source": [
    "import math\n",
    "import statistics\n",
    "import numpy as np\n",
    "import scipy.stats\n",
    "\n",
    "# kasus jika saya memiliki data seperti yang di bawah\n",
    "x = [8.0, 1, 2.5, 4, 28.0]\n",
    "x_dgn_nan = [8.0, 1, 2.5, math.nan, 4, 28.0]\n",
    "x_=np.array(x)\n",
    "x_nan=np.array(x_dgn_nan)\n",
    "print(x_)\n",
    "print(x_nan)"
   ]
  },
  {
   "cell_type": "code",
   "execution_count": 27,
   "metadata": {},
   "outputs": [
    {
     "output_type": "stream",
     "name": "stdout",
     "text": [
      "8.7\n8.7\n8.7\n"
     ]
    }
   ],
   "source": [
    "# bagianan jika kita menghitung nilai mean menggunakan python saja, statistic,np dan scipy\n",
    "n=len(x)\n",
    "meanx=sum(x)/n\n",
    "print(meanx) # dengan python\n",
    "print(statistics.mean(x)) # dengan statistic\n",
    " #Dan bagaimana jika kita memiliki permasalahan di dalam ada data nan atau data kosong \n",
    " # nah untuk menyelsaikan propblem ini tentunya kita pasti menggunakan library np dalam memecahkan masalahnya atau juga bisa \n",
    "print(np.nanmean(x_dgn_nan))\n",
    "\n"
   ]
  },
  {
   "cell_type": "code",
   "execution_count": 30,
   "metadata": {},
   "outputs": [
    {
     "output_type": "stream",
     "name": "stdout",
     "text": [
      "6.95\n6.95\n"
     ]
    }
   ],
   "source": [
    "# studi kasus weighted Mean atau rataan berbobot dengan data yang di sediakan di bawah\n",
    "w = [0.1, 0.2, 0.3, 0.25, 0.15]\n",
    "x = [8.0, 1, 2.5, 4, 28.0]\n",
    "wmean=sum(w[i]*x[i] for i in range(len(x)))\n",
    "print(wmean)\n",
    "# akan tetapi jika kita memiliki data yang besar maka lebih bagus kita menggunakan numpy\n",
    "print(np.average(x,weights=w))"
   ]
  },
  {
   "cell_type": "code",
   "execution_count": 34,
   "metadata": {},
   "outputs": [
    {
     "output_type": "stream",
     "name": "stdout",
     "text": [
      "0.1724137931034483\n0.17241379310344826\n0.1724137931034483\n"
     ]
    }
   ],
   "source": [
    "# jika di sediakan sebuah data dan studi kasusnya di tantang buat mencari harmonic mean \n",
    "# selesaikan dengan python saja, library statistic dan scipy.stats\n",
    "w = [0.1, 0.2, 0.3, 0.25, 0.15]\n",
    "w_harmonic=len(w)/sum(1/i for i in w)\n",
    "print(w_harmonic)\n",
    "\n",
    "#cara statistic\n",
    "print(statistics.harmonic_mean(w))\n",
    "\n",
    "# cara dengan scipy\n",
    "print(scipy.stats.hmean(w))"
   ]
  },
  {
   "cell_type": "code",
   "execution_count": 35,
   "metadata": {},
   "outputs": [
    {
     "output_type": "stream",
     "name": "stdout",
     "text": [
      "0.18639596365956757\n0.18639596365956765\n"
     ]
    }
   ],
   "source": [
    "# studi kasus di suruh menyelsaiakan dan mencari geometric mean pada sebuah data denga library dari statisct dan scypy\n",
    "print(statistics.geometric_mean(w))\n",
    "\n",
    "print(scipy.stats.gmean(w))"
   ]
  },
  {
   "cell_type": "code",
   "execution_count": 44,
   "metadata": {},
   "outputs": [
    {
     "output_type": "stream",
     "name": "stdout",
     "text": [
      "4\n4\n4.0\n"
     ]
    }
   ],
   "source": [
    "# studi kasus misalnya saya memiliki sebuah data tetapi saya ingin mencari media dari data tersebut\n",
    "# pertama saya gunakan cara pyton, kedua say gunakan library dari statistic , numpay dan scipy\n",
    "x = [8.0, 1, 2.5, 4, 28.0]\n",
    "n_x=len(x)\n",
    "if n_x % 2==0:\n",
    "    median=sorted(x)[round(0.5*(n_x))]\n",
    "else:\n",
    "    median=sorted(x)[round(0.5*(n_x-1))]\n",
    "\n",
    "print(median)\n",
    "# dengan menggunakan library dari statistic\n",
    "print(statistics.median(x))\n",
    "print(np.median(x))\n",
    "\n"
   ]
  },
  {
   "cell_type": "code",
   "execution_count": 65,
   "metadata": {},
   "outputs": [
    {
     "output_type": "stream",
     "name": "stdout",
     "text": [
      "12\nstatistic 12\nstatistic multi modus: [12]\nmenggunakan scipy: ModeResult(mode=array([12]), count=array([3]))\n"
     ]
    }
   ],
   "source": [
    "# bagaimana mencari modus dengan python saja\n",
    "u = [2, 3, 2, 8, 12,12,12]\n",
    "u_uodate=np.array(u)\n",
    "mode_ = max((u.count(item), item) for item in set(u))[1]\n",
    "print(mode_)\n",
    "#bagiaman mencari nilai modus denga library\n",
    "print('statistic',statistics.mode(u))\n",
    "print('statistic multi modus:',statistics.multimode(u))\n",
    "print('menggunakan scipy:',scipy.stats.mode(u))"
   ]
  },
  {
   "cell_type": "code",
   "execution_count": 88,
   "metadata": {},
   "outputs": [
    {
     "output_type": "stream",
     "name": "stdout",
     "text": [
      "[8.0, 2.5, nan, 28.0]\n123.19999999999999\n123.2\n123.19999999999999\n"
     ]
    }
   ],
   "source": [
    "# masuk ke materi study kasus menghitung ukuran sebaran datanya dengan python dan juga library yang di berikan\n",
    "xdata = [8.0, 1, 2.5, 4, 28.0]\n",
    "x_dgn_nan = [8.0, 1, 2.5, math.nan, 4, 28.0]\n",
    "# dataad=12\n",
    "# print(type(dataad))\n",
    "xupdatedata=[]\n",
    "def parsing(x):\n",
    "    for data in x:\n",
    "        if type(data)==float:\n",
    "            xupdatedata.append(data)\n",
    "parsing(x_dgn_nan)\n",
    "\n",
    "print(xupdatedata)\n",
    "\n",
    "ndata=len(xdata)\n",
    "x_meandata=sum(xdata)/ndata\n",
    "x_varians=sum((i-x_meandata)**2  for i in xdata)/(ndata-1)\n",
    "print(x_varians)\n",
    "\n",
    "# studi kasus menggunakan library dalam memcahkan masalahnya \n",
    "print(statistics.variance(xdata))\n",
    "print(np.var(xdata,ddof=1))\n",
    "\n"
   ]
  },
  {
   "cell_type": "code",
   "execution_count": 93,
   "metadata": {},
   "outputs": [
    {
     "output_type": "stream",
     "name": "stdout",
     "text": [
      "11.099549540409285\n11.099549540409287\n9.927738916792684\n"
     ]
    }
   ],
   "source": [
    "std_x=x_varians**0.5\n",
    "print(std_x)\n",
    "#mengunakan library \n",
    "print(statistics.stdev(xdata))\n",
    "print(np.std(xdata))\n",
    "print(scipy.stats.st)"
   ]
  },
  {
   "cell_type": "code",
   "execution_count": 105,
   "metadata": {},
   "outputs": [
    {
     "output_type": "stream",
     "name": "stdout",
     "text": [
      "1.9470432273905929\n1.9470432273905927\n"
     ]
    }
   ],
   "source": [
    "# study kasus bagiamana memecahkan masalah skewness pada data yang di berikan\n",
    "xskew = [8.0, 1, 2.5, 4, 28.0]\n",
    "nskew=len(xskew)\n",
    "\n",
    "meanskew=sum(xskew)/nskew\n",
    "\n",
    "skewvarians=sum((i-meanskew)**2 for i in xskew)/(nskew-1)\n",
    "std_skew=skewvarians**0.5\n",
    "# print(std_skew)\n",
    "\n",
    "skewnees=(sum((i-meanskew)**3 for i in xskew)*nskew/((nskew-1)*(nskew-2)*std_skew**3))\n",
    "\n",
    "print(skewnees)\n",
    "# disini bias di berikan flase karena data yang di ambil sample\n",
    "print(scipy.stats.skew(xskew,bias=False))\n",
    "\n",
    "#catatan penting suatu dataset dapat dianggap simetris jika memiliki nilai skewness mendekati 0, yaitu antara -0.5 dan 0.5.\n"
   ]
  },
  {
   "cell_type": "code",
   "execution_count": 114,
   "metadata": {},
   "outputs": [
    {
     "output_type": "stream",
     "name": "stdout",
     "text": [
      "41.0\nnilai kuartil 1: 0.1\nnilai kuartil 2: 8.0\nmedian dari data : 8.0\nkuartil tiga data: 21.0\n"
     ]
    }
   ],
   "source": [
    "# Percentiles ke-p dari sekumpulan data adalah nilai dimana p% dari data tersebut berada dibawahnya. Setiap data memiliki tiga nilai kuartil, yang membagi data menjadi 4 bagian sama besar.\n",
    "\n",
    "# Kuartil pertama (Q1) adalah persentil ke-25 dari data\n",
    "# Kuartil kedua (Q2) adalah persentil ke-50 dari data yang juga merupakan median dari data tersebut.\n",
    "# Kuartil ketiga (Q3) adalah persentil ke-75 dari data\n",
    "\n",
    "# studi kasus di suruh mencari persentil menggunakan library dan kuartil data\n",
    "xdatabaru = [-5.0, -1.1, 0.1, 2.0, 8.0, 12.8, 21.0, 25.8, 41.0]\n",
    "print(np.percentile(x,100))\n",
    "print('nilai kuartil 1:',np.quantile(xdatabaru,0.25))\n",
    "print('nilai kuartil 2:',np.quantile(xdatabaru,0.5))\n",
    "print('median dari data :',np.median(xdatabaru))\n",
    "print('kuartil tiga data:',np.quantile(xdatabaru,0.75))"
   ]
  },
  {
   "cell_type": "code",
   "execution_count": 115,
   "metadata": {},
   "outputs": [
    {
     "output_type": "stream",
     "name": "stdout",
     "text": [
      "4043.0\n<class 'NoneType'>\n"
     ]
    }
   ],
   "source": [
    "# bagimana cara sy mengetahui jangkauan sebuah data menggunakan python saja dan library dengan data yang tersimpan\n",
    "y=print(float('2021')+int(2022))\n",
    "print(type(y))"
   ]
  },
  {
   "cell_type": "code",
   "execution_count": null,
   "metadata": {},
   "outputs": [],
   "source": []
  }
 ]
}