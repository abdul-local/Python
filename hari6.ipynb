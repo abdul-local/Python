{
 "metadata": {
  "language_info": {
   "codemirror_mode": {
    "name": "ipython",
    "version": 3
   },
   "file_extension": ".py",
   "mimetype": "text/x-python",
   "name": "python",
   "nbconvert_exporter": "python",
   "pygments_lexer": "ipython3",
   "version": "3.9.2"
  },
  "orig_nbformat": 2,
  "kernelspec": {
   "name": "python392jvsc74a57bd06cbb41571b20674ffee661aa3e8e8b885ec56c497d88337beffcf280b455b3f0",
   "display_name": "Python 3.9.2 64-bit"
  },
  "metadata": {
   "interpreter": {
    "hash": "6cbb41571b20674ffee661aa3e8e8b885ec56c497d88337beffcf280b455b3f0"
   }
  }
 },
 "nbformat": 4,
 "nbformat_minor": 2,
 "cells": [
  {
   "cell_type": "code",
   "execution_count": 40,
   "metadata": {},
   "outputs": [
    {
     "output_type": "stream",
     "name": "stdout",
     "text": [
      "[[1 2 3 4 5]\n [6 7 8 9 0]]\ndimensi data dari mynumpy:  2\nbaris dan column:  (2, 5)\ntipe data dalam array:  int32\ntotal byte yang digunakan:  40\nakese dari index 1:  [8 9]\n4\n"
     ]
    }
   ],
   "source": [
    "import numpy as np\n",
    "mynumpy=np.array([[1,2,3,4,5],[6,7,8,9,0]])\n",
    "print(mynumpy)\n",
    "\n",
    "#studi kasusnya bagaimana cari sy mengetahui dimensi data menggunakan library\n",
    "print('dimensi data dari mynumpy: ',mynumpy.ndim)\n",
    "\n",
    "#studi kasusnya bagiamana cara saya mengetahui berapa jumlah baris dan columnya\n",
    "print('baris dan column: ',mynumpy.shape)\n",
    "\n",
    "#bagimana cara sy mengetahui type data yang digunakan di dalam array \n",
    "print('tipe data dalam array: ',mynumpy.dtype) # output int 32 bit\n",
    "# bagiamana cara sy mengetahui totoal byte yang digunakan\n",
    "print('total byte yang digunakan: ',mynumpy.nbytes)\n",
    "\n",
    "#bagiaman cara sy mengakses data index ke 1 dari 2 sampai seterusnya\n",
    "print('akese dari index 1: ',mynumpy[1][2:4])\n",
    "\n",
    "#bagaimana cara mengetahui item sizenya\n",
    "print(mynumpy.itemsize)"
   ]
  },
  {
   "cell_type": "code",
   "execution_count": 13,
   "metadata": {},
   "outputs": [
    {
     "output_type": "stream",
     "name": "stdout",
     "text": [
      "[0 1 2 3 4 5 6 7 8 9]\n[1 3 5]\n"
     ]
    }
   ],
   "source": [
    "# Materi Slicing array\n",
    "# [start stop step]\n",
    "# studi kasunya bagiamana jika saya menampilkan data dengan range 10\n",
    "mynumpy=np.array(range(10))\n",
    "print(mynumpy)\n",
    "\n",
    "# # bagaimana jika saya menampikan data dengan setp data 2 dan stop 6 mulai dari 0\n",
    "print(mynumpy[1:6:2])\n",
    "\n",
    "# # bagiamana jika array multidimensi\n",
    "# print('multidimensi: ',mynumpy[1:,2:])\n",
    "\n"
   ]
  },
  {
   "cell_type": "code",
   "execution_count": 21,
   "metadata": {},
   "outputs": [
    {
     "output_type": "stream",
     "name": "stdout",
     "text": [
      "[[0 1]\n [2 3]\n [4 5]\n [6 7]\n [8 9]]\n"
     ]
    }
   ],
   "source": [
    "# studi kasusnya bagiamana saya bisa menampilkan array 2 dimensi dengan baris 2 dan col 5\n",
    "print(mynumpy.reshape(5,2))"
   ]
  },
  {
   "cell_type": "code",
   "execution_count": 24,
   "metadata": {},
   "outputs": [
    {
     "output_type": "stream",
     "name": "stdout",
     "text": [
      "hasil gabunganan:  [[0 1 2 3 4]\n [5 6 7 8 9]\n [1 2 3 1 4]\n [2 3 5 3 5]]\n"
     ]
    }
   ],
   "source": [
    "# Studikasus misalnya kita memiliki 2 buah array dan saya akan menggabungan kedua buah array ts\n",
    "my_numpy1=np.array([[0,1,2,3,4],[5,6,7,8,9]])\n",
    "my_numpy2=np.array([[1,2,3,1,4],[2,3,5,3,5]])\n",
    "\n",
    "print('hasil gabunganan: ',np.concatenate([my_numpy1,my_numpy2]))"
   ]
  },
  {
   "cell_type": "code",
   "execution_count": 28,
   "metadata": {},
   "outputs": [
    {
     "output_type": "stream",
     "name": "stdout",
     "text": [
      "a    4\nb    5\nc    6\nd    7\ne    8\ndtype: int64\n<class 'pandas.core.series.Series'>\n"
     ]
    }
   ],
   "source": [
    "# Materi series pada library pandas\n",
    "# studi kasus buat sebuah variabel dengan nama x yang menyimpan data series\n",
    "import pandas as pd \n",
    "x=pd.Series([4,5,6,7,8])\n",
    "# print(x)\n",
    "# studi kasus series memiliki index dari 0 sampai 1 nah bagaimana cara saya supaya data tersebut sy ubah berdasarkan abjad\n",
    "x.index=['a','b','c','d','e']\n",
    "print(x)\n",
    "print(type(x))\n",
    "\n",
    "# Catatan penting perhatikan jumlah indexnya harus sama dengan jumlah datanya\n"
   ]
  },
  {
   "cell_type": "code",
   "execution_count": 4,
   "metadata": {},
   "outputs": [
    {
     "output_type": "stream",
     "name": "stdout",
     "text": [
      "  iso_code continent     location        date  total_cases  new_cases  \\\n0      AFG      Asia  Afghanistan  2020-02-24          1.0        1.0   \n1      AFG      Asia  Afghanistan  2020-02-25          1.0        0.0   \n2      AFG      Asia  Afghanistan  2020-02-26          1.0        0.0   \n3      AFG      Asia  Afghanistan  2020-02-27          1.0        0.0   \n4      AFG      Asia  Afghanistan  2020-02-28          1.0        0.0   \n\n   new_cases_smoothed  total_deaths  new_deaths  new_deaths_smoothed  ...  \\\n0                 NaN           NaN         NaN                  NaN  ...   \n1                 NaN           NaN         NaN                  NaN  ...   \n2                 NaN           NaN         NaN                  NaN  ...   \n3                 NaN           NaN         NaN                  NaN  ...   \n4                 NaN           NaN         NaN                  NaN  ...   \n\n   gdp_per_capita  extreme_poverty  cardiovasc_death_rate  \\\n0        1803.987              NaN                597.029   \n1        1803.987              NaN                597.029   \n2        1803.987              NaN                597.029   \n3        1803.987              NaN                597.029   \n4        1803.987              NaN                597.029   \n\n   diabetes_prevalence  female_smokers  male_smokers  handwashing_facilities  \\\n0                 9.59             NaN           NaN                  37.746   \n1                 9.59             NaN           NaN                  37.746   \n2                 9.59             NaN           NaN                  37.746   \n3                 9.59             NaN           NaN                  37.746   \n4                 9.59             NaN           NaN                  37.746   \n\n   hospital_beds_per_thousand  life_expectancy  human_development_index  \n0                         0.5            64.83                    0.511  \n1                         0.5            64.83                    0.511  \n2                         0.5            64.83                    0.511  \n3                         0.5            64.83                    0.511  \n4                         0.5            64.83                    0.511  \n\n[5 rows x 59 columns]\n"
     ]
    }
   ],
   "source": [
    "#Masuk ke materi membaca file menggunakan pandas file yang di baca csv\n",
    "# ada 2 method yng sering digunakan untuk membaca file csv dapat menggunakan read_csv() sedangan untuk exel dapa menggunakan read_exel()\n",
    "#method yang harus di pahami di pandas\n",
    "# head()=> menampilkan 5 data secara default()\n",
    "#tail()=> meihat 5 data terakhir\n",
    "# info() => memberikan ringkasan dari data\n",
    "# describe() => method yang memberikan kesimpulan secara deskriptid\n",
    "import pandas as pd\n",
    "datacovid=pd.read_csv('datacovid.csv')\n",
    "print(datacovid.head(5))\n"
   ]
  },
  {
   "cell_type": "code",
   "execution_count": 33,
   "metadata": {},
   "outputs": [
    {
     "output_type": "stream",
     "name": "stdout",
     "text": [
      "      iso_code continent  location        date  total_cases  new_cases  \\\n84090      ZWE    Africa  Zimbabwe  2021-04-19      37859.0      108.0   \n84091      ZWE    Africa  Zimbabwe  2021-04-20      37875.0       16.0   \n84092      ZWE    Africa  Zimbabwe  2021-04-21      37980.0      105.0   \n84093      ZWE    Africa  Zimbabwe  2021-04-22      38018.0       38.0   \n84094      ZWE    Africa  Zimbabwe  2021-04-23      38045.0       27.0   \n84095      ZWE    Africa  Zimbabwe  2021-04-24      38064.0       19.0   \n84096      ZWE    Africa  Zimbabwe  2021-04-25      38086.0       22.0   \n\n       new_cases_smoothed  total_deaths  new_deaths  new_deaths_smoothed  ...  \\\n84090              78.857        1553.0         0.0                1.571  ...   \n84091              77.857        1554.0         1.0                1.571  ...   \n84092              87.286        1555.0         1.0                1.000  ...   \n84093              85.143        1555.0         0.0                0.714  ...   \n84094              73.000        1556.0         1.0                0.714  ...   \n84095              52.143        1556.0         0.0                0.571  ...   \n84096              47.857        1557.0         1.0                0.571  ...   \n\n       gdp_per_capita  extreme_poverty  cardiovasc_death_rate  \\\n84090        1899.775             21.4                307.846   \n84091        1899.775             21.4                307.846   \n84092        1899.775             21.4                307.846   \n84093        1899.775             21.4                307.846   \n84094        1899.775             21.4                307.846   \n84095        1899.775             21.4                307.846   \n84096        1899.775             21.4                307.846   \n\n       diabetes_prevalence  female_smokers  male_smokers  \\\n84090                 1.82             1.6          30.7   \n84091                 1.82             1.6          30.7   \n84092                 1.82             1.6          30.7   \n84093                 1.82             1.6          30.7   \n84094                 1.82             1.6          30.7   \n84095                 1.82             1.6          30.7   \n84096                 1.82             1.6          30.7   \n\n       handwashing_facilities  hospital_beds_per_thousand  life_expectancy  \\\n84090                  36.791                         1.7            61.49   \n84091                  36.791                         1.7            61.49   \n84092                  36.791                         1.7            61.49   \n84093                  36.791                         1.7            61.49   \n84094                  36.791                         1.7            61.49   \n84095                  36.791                         1.7            61.49   \n84096                  36.791                         1.7            61.49   \n\n       human_development_index  \n84090                    0.571  \n84091                    0.571  \n84092                    0.571  \n84093                    0.571  \n84094                    0.571  \n84095                    0.571  \n84096                    0.571  \n\n[7 rows x 59 columns]\n"
     ]
    }
   ],
   "source": [
    "# studi kasus bagiaman menamilkan 7 data terakhir saja dari data csv\n",
    "print(datacovid.tail(7))"
   ]
  },
  {
   "cell_type": "code",
   "execution_count": 5,
   "metadata": {},
   "outputs": [
    {
     "output_type": "stream",
     "name": "stdout",
     "text": [
      "<class 'pandas.core.frame.DataFrame'>\nRangeIndex: 84097 entries, 0 to 84096\nData columns (total 59 columns):\n #   Column                                 Non-Null Count  Dtype  \n---  ------                                 --------------  -----  \n 0   iso_code                               84097 non-null  object \n 1   continent                              80031 non-null  object \n 2   location                               84097 non-null  object \n 3   date                                   84097 non-null  object \n 4   total_cases                            82077 non-null  float64\n 5   new_cases                              82075 non-null  float64\n 6   new_cases_smoothed                     81074 non-null  float64\n 7   total_deaths                           72453 non-null  float64\n 8   new_deaths                             72611 non-null  float64\n 9   new_deaths_smoothed                    81074 non-null  float64\n 10  total_cases_per_million                81633 non-null  float64\n 11  new_cases_per_million                  81631 non-null  float64\n 12  new_cases_smoothed_per_million         80635 non-null  float64\n 13  total_deaths_per_million               72022 non-null  float64\n 14  new_deaths_per_million                 72180 non-null  float64\n 15  new_deaths_smoothed_per_million        80635 non-null  float64\n 16  reproduction_rate                      68032 non-null  float64\n 17  icu_patients                           8772 non-null   float64\n 18  icu_patients_per_million               8772 non-null   float64\n 19  hosp_patients                          10586 non-null  float64\n 20  hosp_patients_per_million              10586 non-null  float64\n 21  weekly_icu_admissions                  775 non-null    float64\n 22  weekly_icu_admissions_per_million      775 non-null    float64\n 23  weekly_hosp_admissions                 1276 non-null   float64\n 24  weekly_hosp_admissions_per_million     1276 non-null   float64\n 25  new_tests                              38481 non-null  float64\n 26  total_tests                            38183 non-null  float64\n 27  total_tests_per_thousand               38183 non-null  float64\n 28  new_tests_per_thousand                 38481 non-null  float64\n 29  new_tests_smoothed                     44071 non-null  float64\n 30  new_tests_smoothed_per_thousand        44071 non-null  float64\n 31  positive_rate                          42388 non-null  float64\n 32  tests_per_case                         41795 non-null  float64\n 33  tests_units                            45503 non-null  object \n 34  total_vaccinations                     8780 non-null   float64\n 35  people_vaccinated                      8066 non-null   float64\n 36  people_fully_vaccinated                5906 non-null   float64\n 37  new_vaccinations                       7413 non-null   float64\n 38  new_vaccinations_smoothed              14213 non-null  float64\n 39  total_vaccinations_per_hundred         8780 non-null   float64\n 40  people_vaccinated_per_hundred          8066 non-null   float64\n 41  people_fully_vaccinated_per_hundred    5906 non-null   float64\n 42  new_vaccinations_smoothed_per_million  14213 non-null  float64\n 43  stringency_index                       71400 non-null  float64\n 44  population                             83553 non-null  float64\n 45  population_density                     78267 non-null  float64\n 46  median_age                             75767 non-null  float64\n 47  aged_65_older                          74901 non-null  float64\n 48  aged_70_older                          75342 non-null  float64\n 49  gdp_per_capita                         76085 non-null  float64\n 50  extreme_poverty                        51824 non-null  float64\n 51  cardiovasc_death_rate                  76686 non-null  float64\n 52  diabetes_prevalence                    77791 non-null  float64\n 53  female_smokers                         60097 non-null  float64\n 54  male_smokers                           59210 non-null  float64\n 55  handwashing_facilities                 38532 non-null  float64\n 56  hospital_beds_per_thousand             69996 non-null  float64\n 57  life_expectancy                        79811 non-null  float64\n 58  human_development_index                76577 non-null  float64\ndtypes: float64(54), object(5)\nmemory usage: 37.9+ MB\nNone\n"
     ]
    }
   ],
   "source": [
    "# studi kasus bagimana ketika kita ingin mengetahui informasi dari datacovid.csv tersebut\n",
    "print(datacovid.info())"
   ]
  },
  {
   "cell_type": "code",
   "execution_count": 35,
   "metadata": {},
   "outputs": [
    {
     "output_type": "stream",
     "name": "stdout",
     "text": [
      "        total_cases      new_cases  new_cases_smoothed  total_deaths  \\\ncount  8.207700e+04   82075.000000        81074.000000  7.245300e+04   \nmean   8.058046e+05    5718.143210         5692.332794  2.260774e+04   \nstd    5.579207e+06   35538.797526        34813.794708  1.335640e+05   \nmin    1.000000e+00  -74347.000000        -6223.000000  1.000000e+00   \n25%    9.070000e+02       2.000000            6.857000  4.400000e+01   \n50%    1.010500e+04      69.000000           84.286000  3.090000e+02   \n75%    1.077430e+05     755.000000          784.678250  3.000000e+03   \nmax    1.471896e+08  899755.000000       826374.286000  3.109247e+06   \n\n         new_deaths  new_deaths_smoothed  total_cases_per_million  \\\ncount  72611.000000         81074.000000             81633.000000   \nmean     137.791588           121.926315              9810.522168   \nstd      751.191619           687.112308             18872.369979   \nmin    -1918.000000          -232.143000                 0.001000   \n25%        0.000000             0.000000               197.460000   \n50%        2.000000             1.143000              1347.588000   \n75%       17.000000            13.429000              9653.642000   \nmax    17906.000000         14435.143000            169028.668000   \n\n       new_cases_per_million  new_cases_smoothed_per_million  \\\ncount           81631.000000                    80635.000000   \nmean               73.739235                       73.740246   \nstd               175.304516                      148.777174   \nmin             -2153.437000                     -276.825000   \n25%                 0.183000                        1.136000   \n50%                 7.517000                        9.922000   \n75%                66.506500                       74.427000   \nmax              8652.658000                     2648.773000   \n\n       total_deaths_per_million  ...  gdp_per_capita  extreme_poverty  \\\ncount              72022.000000  ...    76085.000000     51824.000000   \nmean                 220.252612  ...    19137.638386        13.341685   \nstd                  386.996673  ...    19814.502945        19.940374   \nmin                    0.001000  ...      661.240000         0.100000   \n25%                    6.765000  ...     4466.507000         0.500000   \n50%                   38.216000  ...    12951.839000         2.200000   \n75%                  235.574250  ...    27216.445000        21.200000   \nmax                 2756.111000  ...   116935.600000        77.600000   \n\n       cardiovasc_death_rate  diabetes_prevalence  female_smokers  \\\ncount           76686.000000         77791.000000    60097.000000   \nmean              257.730075             7.816339       10.518013   \nstd               118.749424             3.970896       10.399452   \nmin                79.370000             0.990000        0.100000   \n25%               167.295000             5.290000        1.900000   \n50%               242.648000             7.110000        6.300000   \n75%               329.635000            10.080000       19.300000   \nmax               724.417000            30.530000       44.000000   \n\n       male_smokers  handwashing_facilities  hospital_beds_per_thousand  \\\ncount  59210.000000            38532.000000                69996.000000   \nmean      32.654195               50.924176                    3.029781   \nstd       13.475618               31.763667                    2.464015   \nmin        7.700000                1.188000                    0.100000   \n25%       21.600000               20.859000                    1.300000   \n50%       31.400000               49.839000                    2.400000   \n75%       41.100000               83.241000                    3.861000   \nmax       78.100000               98.999000                   13.800000   \n\n       life_expectancy  human_development_index  \ncount     79811.000000             76577.000000  \nmean         73.165781                 0.727181  \nstd           7.549052                 0.150064  \nmin          53.280000                 0.394000  \n25%          67.920000                 0.602000  \n50%          74.530000                 0.748000  \n75%          78.730000                 0.848000  \nmax          86.750000                 0.957000  \n\n[8 rows x 54 columns]\n"
     ]
    }
   ],
   "source": [
    "# studi kasus bagaimana memberikannya sebuah deskripsi datacovid.csv tersebut\n",
    "print(datacovid.describe())"
   ]
  },
  {
   "cell_type": "code",
   "execution_count": null,
   "metadata": {},
   "outputs": [],
   "source": []
  }
 ]
}