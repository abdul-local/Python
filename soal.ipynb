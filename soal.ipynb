{
 "metadata": {
  "language_info": {
   "codemirror_mode": {
    "name": "ipython",
    "version": 3
   },
   "file_extension": ".py",
   "mimetype": "text/x-python",
   "name": "python",
   "nbconvert_exporter": "python",
   "pygments_lexer": "ipython3",
   "version": "3.9.2"
  },
  "orig_nbformat": 2,
  "kernelspec": {
   "name": "python392jvsc74a57bd06cbb41571b20674ffee661aa3e8e8b885ec56c497d88337beffcf280b455b3f0",
   "display_name": "Python 3.9.2 64-bit"
  },
  "metadata": {
   "interpreter": {
    "hash": "6cbb41571b20674ffee661aa3e8e8b885ec56c497d88337beffcf280b455b3f0"
   }
  }
 },
 "nbformat": 4,
 "nbformat_minor": 2,
 "cells": [
  {
   "cell_type": "code",
   "execution_count": 26,
   "metadata": {},
   "outputs": [
    {
     "output_type": "stream",
     "name": "stdout",
     "text": [
      "{'monopoli': 93, 'catur': 7, 'remi': 5, 'ludo': 0, 'udo': 0}\ndata monopoli: 93\ndata catur: 7\ndata remi: 5\ndata ludo: 0\ndata udo: 0\n"
     ]
    }
   ],
   "source": [
    "maian=['uno','remi','catur','monopoli','ludo']\n",
    "def ya(x):\n",
    "    while x<100:\n",
    "        maian.append('monopoli')\n",
    "        x+=1\n",
    "def ayo(y):\n",
    "    while y<5:\n",
    "        maian.pop(3)\n",
    "        y+=1\n",
    "        \n",
    "def gak(z):\n",
    "    while z<5:\n",
    "        maian.extend(['remi'])\n",
    "        z+=1\n",
    "def kuy(a):\n",
    "   while a<7:\n",
    "       maian.insert(10,'catur')\n",
    "       a+=1\n",
    "   \n",
    "def gaskeun(b):\n",
    "    while b<7:\n",
    "        del maian[0:1]\n",
    "        b+=1 \n",
    "\n",
    "ya(0)\n",
    "ayo(0)\n",
    "gak(0)\n",
    "kuy(0)\n",
    "gaskeun(0)\n",
    "\n",
    "databaru=maian\n",
    "datamonopoli=[]\n",
    "datacatur=[]\n",
    "dataremi=[]\n",
    "dataludo=[]\n",
    "dataudo=[]\n",
    "\n",
    "def parsingdata(a):\n",
    "    for data in a:\n",
    "        if data=='monopoli':\n",
    "          \n",
    "            datamonopoli.append(data)\n",
    "        if data=='catur':\n",
    "            \n",
    "            datacatur.append(data)\n",
    "        if data=='remi':\n",
    "           \n",
    "            dataremi.append(data)\n",
    "        if data=='ludo':\n",
    "          \n",
    "            dataludo.append(data)\n",
    "        if data=='udo':\n",
    "           \n",
    "          dataudo.append(data)\n",
    "\n",
    "\n",
    "# print(maian)\n",
    "parsingdata(databaru)\n",
    "dataakhir={'monopoli':len(datamonopoli),'catur':len(datacatur),'remi':len(dataremi),'ludo':len(dataludo),'udo':len(dataudo)}\n",
    "print(dataakhir)\n",
    "\n",
    "print('data monopoli:',len(datamonopoli))\n",
    "print('data catur:',len(datacatur))\n",
    "print('data remi:',len(dataremi))\n",
    "print('data ludo:',len(dataludo))\n",
    "print('data udo:',len(dataudo))\n",
    "\n"
   ]
  },
  {
   "cell_type": "code",
   "execution_count": 23,
   "metadata": {},
   "outputs": [
    {
     "output_type": "stream",
     "name": "stdout",
     "text": [
      "[2]\n"
     ]
    }
   ],
   "source": [
    "list1=[1,2,3]\n",
    "list2=[2]\n",
    "listbaru=[i for i in list1 if i in list2]\n",
    "print(listbaru)"
   ]
  },
  {
   "source": [],
   "cell_type": "markdown",
   "metadata": {}
  }
 ]
}