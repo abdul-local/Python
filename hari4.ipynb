{
 "metadata": {
  "language_info": {
   "codemirror_mode": {
    "name": "ipython",
    "version": 3
   },
   "file_extension": ".py",
   "mimetype": "text/x-python",
   "name": "python",
   "nbconvert_exporter": "python",
   "pygments_lexer": "ipython3",
   "version": "3.9.2"
  },
  "orig_nbformat": 2,
  "kernelspec": {
   "name": "python392jvsc74a57bd06cbb41571b20674ffee661aa3e8e8b885ec56c497d88337beffcf280b455b3f0",
   "display_name": "Python 3.9.2 64-bit"
  },
  "metadata": {
   "interpreter": {
    "hash": "6cbb41571b20674ffee661aa3e8e8b885ec56c497d88337beffcf280b455b3f0"
   }
  }
 },
 "nbformat": 4,
 "nbformat_minor": 2,
 "cells": [
  {
   "cell_type": "code",
   "execution_count": 2,
   "metadata": {},
   "outputs": [
    {
     "output_type": "stream",
     "name": "stdout",
     "text": [
      "21\n[21, 23, 24]\n"
     ]
    }
   ],
   "source": [
    "datasuhu=[20,21,23,24,25]\n",
    "#akses dengan subsetting list\n",
    "print(datasuhu[1])# 21\n",
    "#akes dengan slicing list\n",
    "# saya ingin 21 sampai 24\n",
    "print(datasuhu[1:4])\n"
   ]
  },
  {
   "cell_type": "code",
   "execution_count": 4,
   "metadata": {},
   "outputs": [
    {
     "output_type": "stream",
     "name": "stdout",
     "text": [
      "[20, 22, 23, 24, 25]\n"
     ]
    }
   ],
   "source": [
    "# ganti 21 jadi 22\n",
    "datasuhu[1]=22\n",
    "print(datasuhu)"
   ]
  },
  {
   "cell_type": "code",
   "execution_count": 5,
   "metadata": {},
   "outputs": [
    {
     "output_type": "stream",
     "name": "stdout",
     "text": [
      "['dian', 'rodi', 'abdul', 'huswatun', 'malik', 'desi', 'sintya', 'monir']\n"
     ]
    }
   ],
   "source": [
    "# kasus sy punya dua nama varibel sama2 menyimpan data array dan sy pengen menggabungkan datanya\n",
    "datakelabdul=['dian','rodi','abdul','huswatun','malik']\n",
    "datakelsintya=['desi','sintya','monir']\n",
    "data_kel_baru=datakelabdul+datakelsintya\n",
    "print(data_kel_baru) "
   ]
  },
  {
   "cell_type": "code",
   "execution_count": 6,
   "metadata": {},
   "outputs": [
    {
     "output_type": "stream",
     "name": "stdout",
     "text": [
      "['dian', 'rodi', 'abdul', 'huswatun', 'malik', 'desi', 'sintya', 'monir', 'databaru']\n"
     ]
    }
   ],
   "source": [
    "# kasusnya saya ingin menambahakan data baru di akhir\n",
    "data_kel_baru.append('databaru')\n",
    "print(data_kel_baru)"
   ]
  },
  {
   "cell_type": "code",
   "execution_count": 7,
   "metadata": {},
   "outputs": [
    {
     "output_type": "stream",
     "name": "stdout",
     "text": [
      "['dian', 'rodi', 'geser abdul', 'abdul', 'huswatun', 'malik', 'desi', 'sintya', 'monir', 'databaru']\n"
     ]
    }
   ],
   "source": [
    "# kasus saya ingin menambhakan data baru sesui index yang saya inginkan gunakan method insert\n",
    "data_kel_baru.insert(2,'geser abdul')\n",
    "print(data_kel_baru)"
   ]
  },
  {
   "cell_type": "code",
   "execution_count": 8,
   "metadata": {},
   "outputs": [
    {
     "output_type": "stream",
     "name": "stdout",
     "text": [
      "['dian', 'rodi', 'geser abdul', 'abdul', 'huswatun', 'malik', 'desi', 'sintya', 'monir']\n"
     ]
    }
   ],
   "source": [
    "# kasus misal sy ingin menghapus data terakhir\n",
    "del(data_kel_baru[len(data_kel_baru)-1])\n",
    "print(data_kel_baru)"
   ]
  },
  {
   "cell_type": "code",
   "execution_count": 9,
   "metadata": {},
   "outputs": [
    {
     "output_type": "stream",
     "name": "stdout",
     "text": [
      "['dian', 'rodi', 'abdul', 'huswatun', 'malik', 'desi', 'sintya', 'monir']\n"
     ]
    }
   ],
   "source": [
    "#bagaimana cara kita menghapus data berdasarkan index ? nah solusinya bisa menggunakan method pop\n",
    "data_kel_baru.pop(2)\n",
    "print(data_kel_baru)"
   ]
  },
  {
   "cell_type": "code",
   "execution_count": 10,
   "metadata": {},
   "outputs": [
    {
     "output_type": "stream",
     "name": "stdout",
     "text": [
      "[1, 2, 3, 4, 5, 7, 8, 9, 10, 11, 21]\n"
     ]
    }
   ],
   "source": [
    "# kasus nya juga misalnya kita punya data dan kita mau mengurutkan data sesui abjadnya\n",
    "datanumber=[10,9,11,1,21,2,3,5,4,8,7]\n",
    "print(sorted(datanumber))"
   ]
  },
  {
   "cell_type": "code",
   "execution_count": 12,
   "metadata": {},
   "outputs": [
    {
     "output_type": "stream",
     "name": "stdout",
     "text": [
      "[10, 9, 11, 1, 21, 2, 3, 5, 4, 8, 7, 8]\n"
     ]
    }
   ],
   "source": [
    "# kasusnya kita sudah memiliki datanya dan kita ingin mengcopy data tersebut solusinya dapat menggunakan method copy\n",
    "a=datanumber.copy()\n",
    "a.append(8)\n",
    "print(a)"
   ]
  },
  {
   "cell_type": "code",
   "execution_count": 16,
   "metadata": {},
   "outputs": [
    {
     "output_type": "stream",
     "name": "stdout",
     "text": [
      "[29, 4, 3, 8, 11, 10, 12, 13, 14, 48]\n"
     ]
    }
   ],
   "source": [
    "# kasus utk comperehension saya memiliki data yang tersimpan dalam array tapi sy pengen memfilter data tersebut seui yang saya inginkan\n",
    "data=[29,1,4,2,3,8,11,10,12,13,14,48]\n",
    "data_filter=[i for i in data if i >2]\n",
    "print(data_filter)"
   ]
  },
  {
   "cell_type": "code",
   "execution_count": 17,
   "metadata": {},
   "outputs": [
    {
     "output_type": "stream",
     "name": "stdout",
     "text": [
      "{'one': 1, 'two': 2, 'three': 3}\n"
     ]
    }
   ],
   "source": [
    "# topik dictionary\n",
    "# saya ingin mendeklarasikan sebuah dictionary yang memiliki key dan value\n",
    "data_number={'one':1,'two':2,'three':3}\n",
    "data_number.ap\n",
    "print(data_number)"
   ]
  },
  {
   "cell_type": "code",
   "execution_count": 18,
   "metadata": {},
   "outputs": [
    {
     "output_type": "stream",
     "name": "stdout",
     "text": [
      "1\n"
     ]
    }
   ],
   "source": [
    "#bagimana jika saya ingin mengambil data dengan key one\n",
    "print(data_number['one'])"
   ]
  },
  {
   "cell_type": "code",
   "execution_count": 19,
   "metadata": {},
   "outputs": [
    {
     "output_type": "stream",
     "name": "stdout",
     "text": [
      "{'one': 1, 'two': 4, 'three': 3}\n"
     ]
    }
   ],
   "source": [
    "# bagimana jika saya ingin merubah value key two\n",
    "data_number['two']=4\n",
    "print(data_number)\n"
   ]
  },
  {
   "cell_type": "code",
   "execution_count": 26,
   "metadata": {},
   "outputs": [
    {
     "output_type": "stream",
     "name": "stdout",
     "text": [
      " nama key one dan value 1\n nama key two dan value 4\n nama key three dan value 3\n"
     ]
    }
   ],
   "source": [
    "# bagimana jika saya melooping data dictiobary mengambil nilai key dan value nya\n",
    "for key in data_number:\n",
    "    print(f' nama key {key} dan value {data_number[key]}')"
   ]
  },
  {
   "cell_type": "code",
   "execution_count": 28,
   "metadata": {},
   "outputs": [
    {
     "output_type": "stream",
     "name": "stdout",
     "text": [
      " one=1\n two=4\n three=3\n"
     ]
    }
   ],
   "source": [
    "# bagimana cara mengatasi soal yang di atas dengan cara lebih mudah lagi dalam melooping dictionary\n",
    "for key,val in data_number.items():\n",
    "    print(f' {key}={val}')"
   ]
  },
  {
   "cell_type": "code",
   "execution_count": 33,
   "metadata": {},
   "outputs": [
    {
     "output_type": "stream",
     "name": "stdout",
     "text": [
      "ya ada \n"
     ]
    }
   ],
   "source": [
    "# misalnya dalam sebuah kasus saya ingin mengetahui apakah ada key dengan nama one di dictionary kalau ada kasih tau\n",
    "for key in data_number:\n",
    "    if 'one' in data_number :\n",
    "        print('ya ada ')\n",
    "        break\n",
    "    else:\n",
    "        print('ya tidak ada')\n",
    "        break\n",
    "    "
   ]
  },
  {
   "cell_type": "code",
   "execution_count": 34,
   "metadata": {},
   "outputs": [
    {
     "output_type": "stream",
     "name": "stdout",
     "text": [
      "{'one': 1, 'two': 4, 'three': 3, 'four': 4}\n"
     ]
    }
   ],
   "source": [
    "# kasus misalnya saya ingin menambahakan sebuah data\n",
    "data_number['four']=4\n",
    "print(data_number)"
   ]
  },
  {
   "cell_type": "code",
   "execution_count": 36,
   "metadata": {},
   "outputs": [
    {
     "output_type": "stream",
     "name": "stdout",
     "text": [
      "{'one': 1, 'two': 2, 'three': 3, 'four': 4}\n"
     ]
    }
   ],
   "source": [
    "# bagaiamana kasusnya lagi jika saya ingin mengubah datanya, ingat ya kalau menggunakan method update itu menerima parameter dictionary\n",
    "data_number.update({'two':2})\n",
    "print(data_number)"
   ]
  },
  {
   "cell_type": "code",
   "execution_count": 41,
   "metadata": {},
   "outputs": [
    {
     "output_type": "stream",
     "name": "stdout",
     "text": [
      "{'one': 1, 'two': 2}\n"
     ]
    }
   ],
   "source": [
    "# kasusnya lagi bagaimana jik saya ingin menghapus data dictionary dapat mengguanakan method del dan pop\n",
    "\n",
    "# data_number.pop('four')\n",
    "#menggunakan method del\n",
    "del data_number['three']\n",
    "print(data_number)"
   ]
  },
  {
   "cell_type": "code",
   "execution_count": 16,
   "metadata": {},
   "outputs": [
    {
     "output_type": "error",
     "ename": "SyntaxError",
     "evalue": "cannot assign to function call (<ipython-input-16-1b046a634328>, line 24)",
     "traceback": [
      "\u001b[1;36m  File \u001b[1;32m\"<ipython-input-16-1b046a634328>\"\u001b[1;36m, line \u001b[1;32m24\u001b[0m\n\u001b[1;33m    list2.copy() = list1\u001b[0m\n\u001b[1;37m    ^\u001b[0m\n\u001b[1;31mSyntaxError\u001b[0m\u001b[1;31m:\u001b[0m cannot assign to function call\n"
     ]
    }
   ],
   "source": [
    "list1=[1,2]\n",
    "list2=[2,3]\n",
    "\n",
    "# List2=List1.copy()\n",
    "# list2=list1.copy()\n",
    "# print(list2)\n",
    "# list2.copy()=list1\n",
    "# print(list1)\n",
    "\n",
    "# List2 =list(list1)\n",
    "# # List2 =list1[:]\n",
    "# print(list2)\n",
    "\n",
    "# List2 = List1[ : ] \n",
    "# List2 = List1.copy()\n",
    "# print(list2)\n",
    "\n",
    "\n",
    "\n",
    "# List2=List1.copy() dan List2.copy() = List1\n",
    "# List2 = List1 dan List2 = list(List1)\n",
    "# list2 = list1 \n",
    "# print(list2)\n",
    "list2.copy() = list1\n",
    "print(list2)\n"
   ]
  },
  {
   "cell_type": "code",
   "execution_count": null,
   "metadata": {},
   "outputs": [],
   "source": []
  }
 ]
}