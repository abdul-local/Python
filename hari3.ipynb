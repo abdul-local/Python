{
 "metadata": {
  "language_info": {
   "codemirror_mode": {
    "name": "ipython",
    "version": 3
   },
   "file_extension": ".py",
   "mimetype": "text/x-python",
   "name": "python",
   "nbconvert_exporter": "python",
   "pygments_lexer": "ipython3",
   "version": "3.9.2"
  },
  "orig_nbformat": 2,
  "kernelspec": {
   "name": "python392jvsc74a57bd06cbb41571b20674ffee661aa3e8e8b885ec56c497d88337beffcf280b455b3f0",
   "display_name": "Python 3.9.2 64-bit"
  },
  "metadata": {
   "interpreter": {
    "hash": "6cbb41571b20674ffee661aa3e8e8b885ec56c497d88337beffcf280b455b3f0"
   }
  }
 },
 "nbformat": 4,
 "nbformat_minor": 2,
 "cells": [
  {
   "cell_type": "code",
   "execution_count": 29,
   "metadata": {},
   "outputs": [
    {
     "output_type": "stream",
     "name": "stdout",
     "text": [
      "30\n[29, 30, 52]\n"
     ]
    }
   ],
   "source": [
    "# materi type data list\n",
    "#kumpulan data\n",
    "suhu1=29\n",
    "suhu2=30\n",
    "suhu3=52\n",
    "data_suhu=[suhu1,suhu2,suhu3]\n",
    "print(data_suhu[-2]) # cetak data dari belanag\n",
    "# print(data_suhu[start:stop+1])\n",
    "print(data_suhu)\n"
   ]
  },
  {
   "cell_type": "code",
   "execution_count": 2,
   "metadata": {},
   "outputs": [
    {
     "output_type": "stream",
     "name": "stdout",
     "text": [
      "['abdul', 18, 'hir', 30, 'ibu', 38]\n"
     ]
    }
   ],
   "source": [
    "# berisi type data yang berbeda juga\n",
    "keluarga_ucup=['abdul',18,'hir',30,'ibu',38]\n",
    "print(keluarga_ucup)"
   ]
  },
  {
   "cell_type": "code",
   "execution_count": 3,
   "metadata": {},
   "outputs": [
    {
     "output_type": "stream",
     "name": "stdout",
     "text": [
      "358\n"
     ]
    }
   ],
   "source": [
    "#materi akes data di dalam list\n",
    "daftar_angka=[358,902,344,289,987]\n",
    "#akes index ke nol\n",
    "print(daftar_angka[0])#358"
   ]
  },
  {
   "cell_type": "code",
   "execution_count": 4,
   "metadata": {},
   "outputs": [
    {
     "output_type": "stream",
     "name": "stdout",
     "text": [
      "[346, 900, 340]\n[346, 900, 340, 20, 40, 67]\n"
     ]
    }
   ],
   "source": [
    "#manipulasi data list\n",
    "daftar_random=[346,903,340]\n",
    "#ubah di dalam daftar list utk index 1\n",
    "daftar_random[1]=900\n",
    "# menambahkan data baru\n",
    "data1=daftar_random+[20,40,67]\n",
    "print(daftar_random)\n",
    "print(data1)\n"
   ]
  },
  {
   "cell_type": "code",
   "execution_count": 9,
   "metadata": {},
   "outputs": [
    {
     "output_type": "stream",
     "name": "stdout",
     "text": [
      "['jeruk', 'semangka', 'nangka', 'buah kelapa', 'manggis', 'nanas']\n"
     ]
    }
   ],
   "source": [
    "# penggunaan metho pada list seperti append(),index()\n",
    "buahan=['jeruk','semangka','buah kelapa','manggis']\n",
    "#tambahkan nanas di buahan, append() utk penambahan di akahir\n",
    "buahan.append('nanas')\n",
    "#tambahkan nangka di buahan , dengan method insert() harus ada index ke berapa tempat naruh\n",
    "buahan.insert(2,'nangka')\n",
    "print(buahan)"
   ]
  },
  {
   "cell_type": "code",
   "execution_count": 11,
   "metadata": {},
   "outputs": [
    {
     "output_type": "stream",
     "name": "stdout",
     "text": [
      "['rodi', 'dian', 'abdul', 'aton']\n"
     ]
    }
   ],
   "source": [
    "#method yang ada di list yang di gunakan untuk menghapus data del\n",
    "anggota_kel=['malik','rodi','dian','abdul','aton']\n",
    "#delet malik\n",
    "# del(anggota_kel[0])\n",
    "\n",
    "#pop mengapus berdasarkan indexnya\n",
    "# anggota_kel.pop(0)\n",
    "\n",
    "print(anggota_kel)"
   ]
  },
  {
   "cell_type": "code",
   "execution_count": 14,
   "metadata": {},
   "outputs": [
    {
     "output_type": "stream",
     "name": "stdout",
     "text": [
      "326\n"
     ]
    }
   ],
   "source": [
    "# beberapa fungsi dalam list\n",
    "bil=[20,29,30,37,89,27,38,56]\n",
    "#len, mengetahui panjang data \n",
    "# print(len(bil))\n",
    "# sorted, penggunaan sorted utk mngurutkan bilangan dari terkecil sampai terbesar\n",
    "\n",
    "# print(sorted(bil))\n",
    "\n",
    "#penggunaan sum dalam menjumlahkan bilangan di dalam array\n",
    "print(sum(bil))\n"
   ]
  },
  {
   "cell_type": "code",
   "execution_count": 19,
   "metadata": {},
   "outputs": [
    {
     "output_type": "stream",
     "name": "stdout",
     "text": [
      "[45, 67, 90, 89, 46]\n"
     ]
    }
   ],
   "source": [
    "# list compherensif\n",
    "numbers=[45,36,67,35,90,89,46]\n",
    "#memfilter isi dalam list\n",
    "number=[i for i in numbers if i >36]\n",
    "print(number)\n"
   ]
  },
  {
   "cell_type": "code",
   "execution_count": 28,
   "metadata": {},
   "outputs": [
    {
     "output_type": "stream",
     "name": "stdout",
     "text": [
      "{'produksi': 'korea selatan', 'color': 'black', 'price': 200000}\nproduksi=korea selatan\ncolor=black\nprice=200000\nkorea selatan\n200000\n"
     ]
    }
   ],
   "source": [
    "# materi dictionary\n",
    "xiomi={\n",
    "    'produksi':'korea selatan',\n",
    "    'color':'black',\n",
    "    'price':200000\n",
    "\n",
    "    \n",
    "    }\n",
    "print(xiomi)\n",
    "for i in xiomi:\n",
    "    print('{}={}'.format(i,xiomi[i]))\n",
    "print(xiomi['produksi'])\n",
    "print(xiomi['price'])"
   ]
  },
  {
   "cell_type": "code",
   "execution_count": 6,
   "metadata": {},
   "outputs": [
    {
     "output_type": "stream",
     "name": "stdout",
     "text": [
      "one=1\ntwo=2\nthree=3\n"
     ]
    }
   ],
   "source": [
    "#looping pada dictionary\n",
    "numbers={'one':1,'two':2,'three':3}\n",
    "for k in numbers:\n",
    "    # print(\"{} = {}\".format(k, numbers[k]))\n",
    "    print(\"{}={}\".format(k,numbers[k]))\n"
   ]
  },
  {
   "cell_type": "code",
   "execution_count": 7,
   "metadata": {},
   "outputs": [
    {
     "output_type": "stream",
     "name": "stdout",
     "text": [
      "20\n24\n15\n"
     ]
    }
   ],
   "source": [
    "# jika ingin melakukan interasi terhadap value\n",
    "family={'rodi':20,'abdul':24,'malik':15}\n",
    "for k in family.values():\n",
    "    print('{}'.format(k))"
   ]
  },
  {
   "cell_type": "code",
   "execution_count": 9,
   "metadata": {},
   "outputs": [
    {
     "output_type": "stream",
     "name": "stdout",
     "text": [
      "one=1\ntwo=2\nthree=3\nfour=4\n"
     ]
    }
   ],
   "source": [
    "# penggunaan item pada iterasi dictionary\n",
    "english={'one':1,'two':2,'three':3,'four':4}\n",
    "for k,v in english.items():\n",
    "    print('{}={}'.format(k,v))\n"
   ]
  },
  {
   "cell_type": "code",
   "execution_count": 11,
   "metadata": {},
   "outputs": [
    {
     "output_type": "stream",
     "name": "stdout",
     "text": [
      "{'one': 1, 'two': 11, 'three': 3, 'four': 4, 'five': 5}\n"
     ]
    }
   ],
   "source": [
    "# Menambkan item pada dictionary\n",
    "angka={'one':1,'two':2,'three':3,'four':4}\n",
    "angka['five']=5\n",
    "#update\n",
    "angka.update({'two':11})\n",
    "print(angka)"
   ]
  },
  {
   "cell_type": "code",
   "execution_count": 15,
   "metadata": {},
   "outputs": [
    {
     "output_type": "stream",
     "name": "stdout",
     "text": [
      "{'two': 2, 'three': 3, 'four': 4, 'five': 5}\n"
     ]
    }
   ],
   "source": [
    "data_list={'one':1,'two':2,'three':3,'four':4,'five':5}\n",
    "# data_list.pop('one')\n",
    "# data_list.clear() # mendelet semua key dan value di dictionary\n",
    "del data_list['one']\n",
    "print(data_list)"
   ]
  },
  {
   "cell_type": "code",
   "execution_count": null,
   "metadata": {},
   "outputs": [],
   "source": []
  }
 ]
}