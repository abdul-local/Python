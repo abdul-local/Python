{
 "metadata": {
  "language_info": {
   "codemirror_mode": {
    "name": "ipython",
    "version": 3
   },
   "file_extension": ".py",
   "mimetype": "text/x-python",
   "name": "python",
   "nbconvert_exporter": "python",
   "pygments_lexer": "ipython3",
   "version": "3.9.2"
  },
  "orig_nbformat": 2,
  "kernelspec": {
   "name": "python392jvsc74a57bd06cbb41571b20674ffee661aa3e8e8b885ec56c497d88337beffcf280b455b3f0",
   "display_name": "Python 3.9.2 64-bit"
  },
  "metadata": {
   "interpreter": {
    "hash": "6cbb41571b20674ffee661aa3e8e8b885ec56c497d88337beffcf280b455b3f0"
   }
  }
 },
 "nbformat": 4,
 "nbformat_minor": 2,
 "cells": [
  {
   "cell_type": "code",
   "execution_count": 2,
   "metadata": {},
   "outputs": [
    {
     "output_type": "stream",
     "name": "stdout",
     "text": [
      "dimensi data: 2\n"
     ]
    }
   ],
   "source": [
    "#studi kasus bagiaman cara sy mengetahui dimensi array pada librarry numpay\n",
    "import numpy as np \n",
    "my_numpy=np.array([[1,2,3,4,5],[6,7,8,9,0]])\n",
    "print('dimensi data:',my_numpy.ndim)"
   ]
  },
  {
   "cell_type": "code",
   "execution_count": 4,
   "metadata": {},
   "outputs": [
    {
     "output_type": "stream",
     "name": "stdout",
     "text": [
      "(2, 5)\n"
     ]
    }
   ],
   "source": [
    "# bagimana cara mengetahui jumlah baris dan colom\n",
    "print(my_numpy.shape)"
   ]
  },
  {
   "cell_type": "code",
   "execution_count": 5,
   "metadata": {},
   "outputs": [
    {
     "output_type": "stream",
     "name": "stdout",
     "text": [
      "int32\n"
     ]
    }
   ],
   "source": [
    "# bagimana cara sy mengetahui type data yang digunakaan\n",
    "print(my_numpy.dtype)"
   ]
  },
  {
   "cell_type": "code",
   "execution_count": 6,
   "metadata": {},
   "outputs": [
    {
     "output_type": "stream",
     "name": "stdout",
     "text": [
      "4\n"
     ]
    }
   ],
   "source": [
    "# bagaiamaca cara sy mengetahui jumlah item size yang ada di dalam \n",
    "print(my_numpy.itemsize)"
   ]
  },
  {
   "cell_type": "code",
   "execution_count": null,
   "metadata": {},
   "outputs": [],
   "source": []
  }
 ]
}