{
 "metadata": {
  "language_info": {
   "codemirror_mode": {
    "name": "ipython",
    "version": 3
   },
   "file_extension": ".py",
   "mimetype": "text/x-python",
   "name": "python",
   "nbconvert_exporter": "python",
   "pygments_lexer": "ipython3",
   "version": "3.9.2"
  },
  "orig_nbformat": 2,
  "kernelspec": {
   "name": "python392jvsc74a57bd06cbb41571b20674ffee661aa3e8e8b885ec56c497d88337beffcf280b455b3f0",
   "display_name": "Python 3.9.2 64-bit"
  },
  "metadata": {
   "interpreter": {
    "hash": "6cbb41571b20674ffee661aa3e8e8b885ec56c497d88337beffcf280b455b3f0"
   }
  }
 },
 "nbformat": 4,
 "nbformat_minor": 2,
 "cells": [
  {
   "cell_type": "code",
   "execution_count": 10,
   "metadata": {},
   "outputs": [
    {
     "output_type": "stream",
     "name": "stdout",
     "text": [
      "rata-rata: 8.7\nmenghitung rata-rata dengan library statistic:  8.7\nrata-rata yg ada nilai nan nya : nan\nmenghasilkan nilai meskipun ada nan nya: 8.9\n"
     ]
    }
   ],
   "source": [
    "import math\n",
    "import statistics\n",
    "import numpy as np\n",
    "import scipy.stats\n",
    "x=[8.0, 1, 2.5, 4, 28.0]\n",
    "y=np.array(x)\n",
    "y_dengan_nan=np.array(x_dengan_nan)\n",
    "x_dengan_nan=[8.0,2,2.5,math.nan,4,28.0]\n",
    "\n",
    "# print(x)\n",
    "# print(x_dengan_nan)\n",
    "# print(y)\n",
    "# print(y_dengan_nan)\n",
    "\n",
    "# menghitung mean\n",
    "n=len(x)\n",
    "jumlah=sum(y)\n",
    "hasil=jumlah/n\n",
    "print('rata-rata:',hasil)\n",
    "\n",
    "# dapat menghitung rata-rata dengan pungsi dari ststistic\n",
    "print('menghitung rata-rata dengan library statistic: ',statistics.mean(x))\n",
    "# menghitung rata-rata variabel yang ada nilai nan nya\n",
    "print('rata-rata yg ada nilai nan nya :',statistics.mean(x_dengan_nan))\n",
    "\n",
    "#jika ingin mengembalikan nilai yang ada nanmean dengan np.mean\n",
    "print('menghasilkan nilai meskipun ada nan nya:',np.nanmean(y_dengan_nan))\n",
    "\n"
   ]
  },
  {
   "cell_type": "code",
   "execution_count": 17,
   "metadata": {},
   "outputs": [
    {
     "output_type": "stream",
     "name": "stdout",
     "text": [
      "6.95\n6.95\n"
     ]
    }
   ],
   "source": [
    "#materi Weighted Mean=rataan berbobot aritmatika sehingga kita dapat menentukan kontribusi relatif dari setiap point\n",
    "x=[8.0,1,2.5,4,28.0]\n",
    "w=[0.1,0.2,0.3,0.25,0.15]\n",
    "# wmean=sum(x*w for (x,w) in zip(x,w))/sum(w)\n",
    "wmean=sum(w[i]*x[i] for i in range(len(x)))/sum(w)\n",
    "\n",
    "print(wmean)\n",
    "\n",
    "# jika kita memiliki dataset yg cukup besa maka gunakan NumPy\n",
    "x_update=np.array(x)\n",
    "w_update=np.array(w)\n",
    "wmean=np.average(x,weights=w)\n",
    "print(wmean)\n",
    "#catatan hati-hati dalam melakukan perhitungan untut data nan"
   ]
  },
  {
   "cell_type": "code",
   "execution_count": 27,
   "metadata": {},
   "outputs": [
    {
     "output_type": "stream",
     "name": "stdout",
     "text": [
      "2.7613412228796843\n2.7613412228796843\n"
     ]
    }
   ],
   "source": [
    "# Materi Harmonic mean\n",
    "#  rataan harmonis dapat dirumuskan dengan 𝑛/Σᵢ(1/𝑥ᵢ) dimana i=1, 2, …, n dan n adalah jumlah data point pada dataset x. Kita bisa menghitungnya menggunakan python:\n",
    "import statistics\n",
    "import scipy\n",
    "data=[8.0,1,2.5,4,28.0]\n",
    "Hmean=len(data)/sum(1/ x for x in data)\n",
    "print(Hmean)\n",
    "# dapat juga menggunakan statistic harmonic\n",
    "Hmean_update=statistics.harmonic_mean(data)\n",
    "print(Hmean)\n",
    "#Jika terdapat nilai nan, maka statistics.harmonic_mean() akan menghasilkan nilai nan, dan jika terdapat nilai negatif, maka akan terjadi error dalam perhitungannya:\n",
    "# data1=[1, 2, -2]\n",
    "# scipy.stats.Hmean_update(data1)"
   ]
  },
  {
   "cell_type": "code",
   "execution_count": 29,
   "metadata": {},
   "outputs": [
    {
     "output_type": "stream",
     "name": "stdout",
     "text": [
      "4.67788567485604\n4.67788567485604\n"
     ]
    }
   ],
   "source": [
    "# Geometric Mean atau rataan geometris merupakan akar pangkat-n dari seluruh hasil perkalian elemen 𝑥ᵢ sejumlah n pada dataset x, dapat dirumuskan dengan ⁿ√(Πᵢ𝑥ᵢ), dimana dimana i=1, 2, …, n dan n adalah jumlah data point pada dataset x. Kita dapat menggunakan python untuk menghitung nilai rataan geometris ini sebagai berikut:\n",
    "\n",
    "gmean=statistics.geometric_mean(x)\n",
    "print(scipy.stats.gmean(y))\n",
    "print(gmean)\n",
    "#catatan penting\n",
    "\n",
    "# Jika terdapat nilai nan pada dataset maka gmean() akan menghasilkan nan. Jika terdapat satu saja nilai 0, maka akan menghasilkan rataan geometris 0 disertai peringatan."
   ]
  },
  {
   "cell_type": "code",
   "execution_count": 31,
   "metadata": {},
   "outputs": [
    {
     "output_type": "stream",
     "name": "stdout",
     "text": [
      "[21, 29, 30, 38, 39, 90]\n34.0\n"
     ]
    }
   ],
   "source": [
    "#mencari median\n",
    "\n",
    "datacovid=[29,21,39,30,90,38]\n",
    "print(sorted(datacovid))\n",
    "print(np.median(datacovid))\n"
   ]
  },
  {
   "cell_type": "code",
   "execution_count": 34,
   "metadata": {},
   "outputs": [
    {
     "output_type": "stream",
     "name": "stdout",
     "text": [
      "2\n"
     ]
    }
   ],
   "source": [
    "# mecari modus\n",
    "u = [2, 3, 2, 8, 12]\n",
    "print(statistics.mode(u))\n"
   ]
  },
  {
   "cell_type": "code",
   "execution_count": 35,
   "metadata": {},
   "outputs": [
    {
     "output_type": "stream",
     "name": "stdout",
     "text": [
      "[12, 15]\n"
     ]
    }
   ],
   "source": [
    "#untuk mengasilkan 2 modus\n",
    "v = [12, 15, 12, 15, 21, 15, 12]\n",
    "print(statistics.multimode(v))"
   ]
  },
  {
   "cell_type": "code",
   "execution_count": 38,
   "metadata": {},
   "outputs": [
    {
     "output_type": "stream",
     "name": "stdout",
     "text": [
      "123.19999999999999\nmengguanakn library statistic:  123.2\n"
     ]
    }
   ],
   "source": [
    "#variansi data\n",
    "n_=len(x)\n",
    "mean_=sum(x)/n_\n",
    "var_=sum((item-mean_)**2 for item in x)/(n_-1)\n",
    "print(var_)\n",
    "# lebih simple menggunakan library dari statistic\n",
    "print('mengguanakn library statistic: ',statistics.variance(x))"
   ]
  },
  {
   "cell_type": "code",
   "execution_count": 40,
   "metadata": {},
   "outputs": [
    {
     "output_type": "stream",
     "name": "stdout",
     "text": [
      "123.19999999999999\n"
     ]
    }
   ],
   "source": [
    "# Bagaimana jika terdapat nilai nan dalam dataset? Silahkan dicoba sendiri hehe..\n",
    "\n",
    "# Cara yang lain yaitu menggunakan fungsi np.var() atau metode .var():\n",
    "var1=np.var(y,ddof=1)\n",
    "print(var1)"
   ]
  },
  {
   "cell_type": "code",
   "execution_count": null,
   "metadata": {},
   "outputs": [],
   "source": []
  }
 ]
}